{
 "cells": [
  {
   "cell_type": "code",
   "execution_count": 1,
   "id": "f7821fcc",
   "metadata": {
    "_cell_guid": "b1076dfc-b9ad-4769-8c92-a6c4dae69d19",
    "_uuid": "8f2839f25d086af736a60e9eeb907d3b93b6e0e5",
    "execution": {
     "iopub.execute_input": "2025-04-16T12:11:22.182897Z",
     "iopub.status.busy": "2025-04-16T12:11:22.182560Z",
     "iopub.status.idle": "2025-04-16T12:11:27.513060Z",
     "shell.execute_reply": "2025-04-16T12:11:27.511866Z"
    },
    "papermill": {
     "duration": 5.337204,
     "end_time": "2025-04-16T12:11:27.515114",
     "exception": false,
     "start_time": "2025-04-16T12:11:22.177910",
     "status": "completed"
    },
    "tags": []
   },
   "outputs": [
    {
     "name": "stdout",
     "output_type": "stream",
     "text": [
      "Collecting pyxlsb\r\n",
      "  Downloading pyxlsb-1.0.10-py2.py3-none-any.whl.metadata (2.5 kB)\r\n",
      "Downloading pyxlsb-1.0.10-py2.py3-none-any.whl (23 kB)\r\n",
      "Installing collected packages: pyxlsb\r\n",
      "Successfully installed pyxlsb-1.0.10\r\n"
     ]
    }
   ],
   "source": [
    "!pip install pyxlsb"
   ]
  },
  {
   "cell_type": "code",
   "execution_count": 2,
   "id": "060bc09c",
   "metadata": {
    "execution": {
     "iopub.execute_input": "2025-04-16T12:11:27.523605Z",
     "iopub.status.busy": "2025-04-16T12:11:27.523276Z",
     "iopub.status.idle": "2025-04-16T12:17:01.309180Z",
     "shell.execute_reply": "2025-04-16T12:17:01.307897Z"
    },
    "papermill": {
     "duration": 333.849072,
     "end_time": "2025-04-16T12:17:01.367908",
     "exception": false,
     "start_time": "2025-04-16T12:11:27.518836",
     "status": "completed"
    },
    "tags": []
   },
   "outputs": [
    {
     "name": "stderr",
     "output_type": "stream",
     "text": [
      "Processing Groups: 100%|██████████| 90116/90116 [04:32<00:00, 330.71it/s]\n"
     ]
    },
    {
     "name": "stdout",
     "output_type": "stream",
     "text": [
      "✅ Done! Download from: /kaggle/working/Invoice_Fuzzy_Report_FULL.xlsx\n"
     ]
    }
   ],
   "source": [
    "# 📦 Import libraries\n",
    "import pandas as pd\n",
    "from difflib import SequenceMatcher\n",
    "import re\n",
    "from itertools import combinations\n",
    "from tqdm import tqdm\n",
    "\n",
    "# ✅ Load your XLSB file\n",
    "# Update this path based on how Kaggle mounts your uploaded file\n",
    "file_path = \"/kaggle/input/invoice-dump-24-25-xlsb/Invoice_Dump_24-25.xlsb\"\n",
    "df = pd.read_excel(file_path, sheet_name=0, engine='pyxlsb')\n",
    "\n",
    "# ✅ Clean and normalize necessary columns\n",
    "df = df[['PAYEE_NAME', 'INVOICE_NO', 'TOTAL_AMOUNT']].dropna().copy()\n",
    "df['INVOICE_NO'] = df['INVOICE_NO'].astype(str)\n",
    "df['PAYEE_NAME'] = df['PAYEE_NAME'].astype(str)\n",
    "\n",
    "def normalize(text):\n",
    "    return re.sub(r'[^A-Za-z0-9]', '', text).upper()\n",
    "\n",
    "df['Normalized_Invoice'] = df['INVOICE_NO'].apply(normalize)\n",
    "df['Normalized_Payer'] = df['PAYEE_NAME'].apply(normalize)\n",
    "\n",
    "# ✅ Fuzzy Matching (Grouped to Reduce Load)\n",
    "matches = []\n",
    "grouped = df.groupby(['Normalized_Payer', 'TOTAL_AMOUNT'])\n",
    "\n",
    "for (payer, amount), group_df in tqdm(grouped, desc=\"Processing Groups\"):\n",
    "    inv_list = group_df[['PAYEE_NAME', 'INVOICE_NO', 'Normalized_Invoice']].drop_duplicates().values.tolist()\n",
    "    for (p1, i1, n1), (p2, i2, n2) in combinations(inv_list, 2):\n",
    "        if n1 != n2:\n",
    "            sim = SequenceMatcher(None, n1, n2).ratio()\n",
    "            if sim >= 0.9:\n",
    "                matches.append((p1, i1, i2, amount, round(sim, 2)))\n",
    "\n",
    "# ✅ Create DataFrames\n",
    "fuzzy_df = pd.DataFrame(matches, columns=['Payer Name', 'Invoice_1', 'Invoice_2', 'Amount', 'Similarity'])\n",
    "matched_invoices = set(fuzzy_df['Invoice_1']).union(set(fuzzy_df['Invoice_2']))\n",
    "matched_details = df[df['INVOICE_NO'].isin(matched_invoices)]\n",
    "\n",
    "# ✅ Save to Excel (Kaggle working directory)\n",
    "output_path = \"/kaggle/working/Invoice_Fuzzy_Report_FULL.xlsx\"\n",
    "with pd.ExcelWriter(output_path, engine='openpyxl') as writer:\n",
    "    df[['PAYEE_NAME', 'INVOICE_NO', 'TOTAL_AMOUNT']].to_excel(writer, sheet_name=\"Raw_Data\", index=False)\n",
    "    fuzzy_df.to_excel(writer, sheet_name=\"Fuzzy_Matches\", index=False)\n",
    "    matched_details.to_excel(writer, sheet_name=\"Matched_Details\", index=False)\n",
    "\n",
    "print(f\"✅ Done! Download from: {output_path}\")\n"
   ]
  },
  {
   "cell_type": "code",
   "execution_count": 3,
   "id": "99205fc3",
   "metadata": {
    "execution": {
     "iopub.execute_input": "2025-04-16T12:17:01.486322Z",
     "iopub.status.busy": "2025-04-16T12:17:01.485887Z",
     "iopub.status.idle": "2025-04-16T12:22:28.593818Z",
     "shell.execute_reply": "2025-04-16T12:22:28.592251Z"
    },
    "papermill": {
     "duration": 327.169433,
     "end_time": "2025-04-16T12:22:28.595631",
     "exception": false,
     "start_time": "2025-04-16T12:17:01.426198",
     "status": "completed"
    },
    "tags": []
   },
   "outputs": [
    {
     "name": "stderr",
     "output_type": "stream",
     "text": [
      "🔍 Matching Groups: 100%|██████████| 88321/88321 [04:29<00:00, 327.46it/s]\n"
     ]
    },
    {
     "name": "stdout",
     "output_type": "stream",
     "text": [
      "✅ Done! Download the file from: /kaggle/working/Invoice_Fuzzy_Report_PayerCode.xlsx\n"
     ]
    }
   ],
   "source": [
    "# 📦 Required Libraries\n",
    "import pandas as pd\n",
    "from difflib import SequenceMatcher\n",
    "import re\n",
    "from itertools import combinations\n",
    "from tqdm import tqdm\n",
    "\n",
    "# ✅ Load Excel XLSB File (replace with your actual file path from sidebar)\n",
    "file_path = \"/kaggle/input/invoice-dump-24-25-xlsb/Invoice_Dump_24-25.xlsb\"\n",
    "df = pd.read_excel(file_path, sheet_name=0, engine='pyxlsb')\n",
    "\n",
    "# ✅ Keep only required columns and drop missing\n",
    "df = df[['PAYEE_CODE', 'INVOICE_NO', 'TOTAL_AMOUNT']].dropna().copy()\n",
    "\n",
    "# Convert types\n",
    "df['INVOICE_NO'] = df['INVOICE_NO'].astype(str)\n",
    "df['PAYEE_CODE'] = df['PAYEE_CODE'].astype(str)\n",
    "\n",
    "# ✅ Normalize text for fuzzy comparison\n",
    "def normalize(text):\n",
    "    return re.sub(r'[^A-Za-z0-9]', '', text).upper()\n",
    "\n",
    "df['Normalized_Invoice'] = df['INVOICE_NO'].apply(normalize)\n",
    "df['Normalized_Payer'] = df['PAYEE_CODE'].apply(normalize)\n",
    "\n",
    "# ✅ Fuzzy Matching - Optimized by Grouping Payer + Amount\n",
    "matches = []\n",
    "grouped = df.groupby(['Normalized_Payer', 'TOTAL_AMOUNT'])\n",
    "\n",
    "for (payer, amount), group_df in tqdm(grouped, desc=\"🔍 Matching Groups\"):\n",
    "    inv_list = group_df[['PAYEE_CODE', 'INVOICE_NO', 'Normalized_Invoice']].drop_duplicates().values.tolist()\n",
    "    for (payer1, inv1, norm1), (payer2, inv2, norm2) in combinations(inv_list, 2):\n",
    "        if norm1 != norm2:\n",
    "            sim = SequenceMatcher(None, norm1, norm2).ratio()\n",
    "            if sim >= 0.90:\n",
    "                matches.append((payer1, inv1, inv2, amount, round(sim, 2)))\n",
    "\n",
    "# ✅ Convert Matches to DataFrame\n",
    "fuzzy_df = pd.DataFrame(matches, columns=['Payee_Code', 'Invoice_1', 'Invoice_2', 'Amount', 'Similarity'])\n",
    "\n",
    "# ✅ Filter original details for all matched invoices\n",
    "matched_invoices = set(fuzzy_df['Invoice_1']).union(set(fuzzy_df['Invoice_2']))\n",
    "matched_details = df[df['INVOICE_NO'].isin(matched_invoices)]\n",
    "\n",
    "# ✅ Save results to Excel (Kaggle Working Directory)\n",
    "output_path = \"/kaggle/working/Invoice_Fuzzy_Report_PayerCode.xlsx\"\n",
    "\n",
    "with pd.ExcelWriter(output_path, engine='openpyxl') as writer:\n",
    "    df[['PAYEE_CODE', 'INVOICE_NO', 'TOTAL_AMOUNT']].to_excel(writer, sheet_name=\"Raw_Data\", index=False)\n",
    "    fuzzy_df.to_excel(writer, sheet_name=\"Fuzzy_Matches\", index=False)\n",
    "    matched_details.to_excel(writer, sheet_name=\"Matched_Details\", index=False)\n",
    "\n",
    "print(f\"✅ Done! Download the file from: {output_path}\")\n"
   ]
  },
  {
   "cell_type": "code",
   "execution_count": 4,
   "id": "c542b6be",
   "metadata": {
    "execution": {
     "iopub.execute_input": "2025-04-16T12:22:28.810905Z",
     "iopub.status.busy": "2025-04-16T12:22:28.810549Z",
     "iopub.status.idle": "2025-04-16T12:30:20.864980Z",
     "shell.execute_reply": "2025-04-16T12:30:20.863928Z"
    },
    "papermill": {
     "duration": 472.321818,
     "end_time": "2025-04-16T12:30:21.024857",
     "exception": false,
     "start_time": "2025-04-16T12:22:28.703039",
     "status": "completed"
    },
    "tags": []
   },
   "outputs": [
    {
     "name": "stderr",
     "output_type": "stream",
     "text": [
      "🔍 Matching Groups: 100%|██████████| 88321/88321 [04:33<00:00, 322.56it/s]\n"
     ]
    },
    {
     "name": "stdout",
     "output_type": "stream",
     "text": [
      "✅ Final Excel Report Saved: /kaggle/working/Invoice_Fuzzy_Report_With_Raw.xlsx\n"
     ]
    }
   ],
   "source": [
    "# 📦 Required Libraries\n",
    "import pandas as pd\n",
    "from difflib import SequenceMatcher\n",
    "import re\n",
    "from itertools import combinations\n",
    "from tqdm import tqdm\n",
    "\n",
    "# ✅ Load the full XLSB file (make sure the path matches your uploaded file)\n",
    "file_path = \"/kaggle/input/invoice-dump-24-25-xlsb/Invoice_Dump_24-25.xlsb\"\n",
    "raw_df = pd.read_excel(file_path, sheet_name=0, engine='pyxlsb')\n",
    "\n",
    "# ✅ Make a working copy for fuzzy logic processing\n",
    "df = raw_df[['PAYEE_CODE', 'INVOICE_NO', 'TOTAL_AMOUNT']].dropna().copy()\n",
    "\n",
    "# Convert relevant fields to string\n",
    "df['INVOICE_NO'] = df['INVOICE_NO'].astype(str)\n",
    "df['PAYEE_CODE'] = df['PAYEE_CODE'].astype(str)\n",
    "\n",
    "# ✅ Normalize text for comparison\n",
    "def normalize(text):\n",
    "    return re.sub(r'[^A-Za-z0-9]', '', text).upper()\n",
    "\n",
    "df['Normalized_Invoice'] = df['INVOICE_NO'].apply(normalize)\n",
    "df['Normalized_Payer'] = df['PAYEE_CODE'].apply(normalize)\n",
    "\n",
    "# ✅ Fuzzy Matching - Group by PAYEE_CODE and Amount\n",
    "matches = []\n",
    "grouped = df.groupby(['Normalized_Payer', 'TOTAL_AMOUNT'])\n",
    "\n",
    "for (payer, amount), group_df in tqdm(grouped, desc=\"🔍 Matching Groups\"):\n",
    "    inv_list = group_df[['PAYEE_CODE', 'INVOICE_NO', 'Normalized_Invoice']].drop_duplicates().values.tolist()\n",
    "    for (payer1, inv1, norm1), (payer2, inv2, norm2) in combinations(inv_list, 2):\n",
    "        if norm1 != norm2:\n",
    "            sim = SequenceMatcher(None, norm1, norm2).ratio()\n",
    "            if sim >= 0.90:\n",
    "                matches.append((payer1, inv1, inv2, amount, round(sim, 2)))\n",
    "\n",
    "# ✅ Build DataFrames for output\n",
    "fuzzy_df = pd.DataFrame(matches, columns=['Payee_Code', 'Invoice_1', 'Invoice_2', 'Amount', 'Similarity'])\n",
    "\n",
    "# ✅ Get matched details from the full raw data\n",
    "matched_invoices = set(fuzzy_df['Invoice_1']).union(set(fuzzy_df['Invoice_2']))\n",
    "matched_details = raw_df[raw_df['INVOICE_NO'].astype(str).isin(matched_invoices)]\n",
    "\n",
    "# ✅ Save to Excel — All Sheets\n",
    "output_path = \"/kaggle/working/Invoice_Fuzzy_Report_With_Raw.xlsx\"\n",
    "\n",
    "with pd.ExcelWriter(output_path, engine='openpyxl') as writer:\n",
    "    raw_df.to_excel(writer, sheet_name=\"Raw_Data\", index=False)              # Full original raw data\n",
    "    fuzzy_df.to_excel(writer, sheet_name=\"Fuzzy_Matches\", index=False)      # Matches only\n",
    "    matched_details.to_excel(writer, sheet_name=\"Matched_Details\", index=False)  # Full matched records\n",
    "\n",
    "print(f\"✅ Final Excel Report Saved: {output_path}\")\n"
   ]
  },
  {
   "cell_type": "code",
   "execution_count": 5,
   "id": "52e80228",
   "metadata": {
    "execution": {
     "iopub.execute_input": "2025-04-16T12:30:21.341245Z",
     "iopub.status.busy": "2025-04-16T12:30:21.340887Z",
     "iopub.status.idle": "2025-04-16T12:36:36.487021Z",
     "shell.execute_reply": "2025-04-16T12:36:36.486013Z"
    },
    "papermill": {
     "duration": 375.486213,
     "end_time": "2025-04-16T12:36:36.666531",
     "exception": false,
     "start_time": "2025-04-16T12:30:21.180318",
     "status": "completed"
    },
    "tags": []
   },
   "outputs": [
    {
     "name": "stderr",
     "output_type": "stream",
     "text": [
      "🔍 Matching Groups: 100%|██████████| 88321/88321 [02:57<00:00, 496.23it/s] \n"
     ]
    },
    {
     "name": "stdout",
     "output_type": "stream",
     "text": [
      "✅ Final Excel saved to: /kaggle/working/Invoice_Fuzzy_Report_Minimal.xlsx\n"
     ]
    }
   ],
   "source": [
    "# 📦 Required Libraries\n",
    "import pandas as pd\n",
    "from difflib import SequenceMatcher\n",
    "from itertools import combinations\n",
    "from tqdm import tqdm\n",
    "\n",
    "# ✅ Load Excel XLSB File (Update path as per Kaggle)\n",
    "file_path = \"/kaggle/input/invoice-dump-24-25-xlsb/Invoice_Dump_24-25.xlsb\"\n",
    "raw_df = pd.read_excel(file_path, sheet_name=0, engine='pyxlsb')\n",
    "\n",
    "# ✅ Extract only required columns for fuzzy matching\n",
    "df = raw_df[['PAYEE_CODE', 'INVOICE_NO', 'TOTAL_AMOUNT']].dropna().copy()\n",
    "\n",
    "# ✅ Convert to string for comparison\n",
    "df['PAYEE_CODE'] = df['PAYEE_CODE'].astype(str)\n",
    "df['INVOICE_NO'] = df['INVOICE_NO'].astype(str)\n",
    "\n",
    "# ✅ Fuzzy Matching Logic – Group by PAYEE_CODE and TOTAL_AMOUNT\n",
    "matches = []\n",
    "grouped = df.groupby(['PAYEE_CODE', 'TOTAL_AMOUNT'])\n",
    "\n",
    "for (payee, amount), group_df in tqdm(grouped, desc=\"🔍 Matching Groups\"):\n",
    "    inv_list = group_df['INVOICE_NO'].drop_duplicates().tolist()\n",
    "    for inv1, inv2 in combinations(inv_list, 2):\n",
    "        if inv1 != inv2:\n",
    "            sim = SequenceMatcher(None, inv1, inv2).ratio()\n",
    "            if sim >= 0.90:\n",
    "                matches.append((payee, inv1, inv2, amount, round(sim, 2)))\n",
    "\n",
    "# ✅ Convert match results to DataFrame\n",
    "fuzzy_df = pd.DataFrame(matches, columns=['Payee_Code', 'Invoice_1', 'Invoice_2', 'Amount', 'Similarity'])\n",
    "\n",
    "# ✅ Extract detailed matched records from full raw data\n",
    "matched_invoice_ids = set(fuzzy_df['Invoice_1']).union(set(fuzzy_df['Invoice_2']))\n",
    "matched_details = raw_df[raw_df['INVOICE_NO'].astype(str).isin(matched_invoice_ids)]\n",
    "\n",
    "# ✅ Save to Excel in Kaggle Output Folder\n",
    "output_path = \"/kaggle/working/Invoice_Fuzzy_Report_Minimal.xlsx\"\n",
    "\n",
    "with pd.ExcelWriter(output_path, engine='openpyxl') as writer:\n",
    "    raw_df.to_excel(writer, sheet_name=\"Raw_Data\", index=False)              # Full untouched raw data\n",
    "    fuzzy_df.to_excel(writer, sheet_name=\"Fuzzy_Matches\", index=False)      # Only matches\n",
    "    matched_details.to_excel(writer, sheet_name=\"Matched_Details\", index=False)  # Full matched records\n",
    "\n",
    "print(f\"✅ Final Excel saved to: {output_path}\")\n"
   ]
  },
  {
   "cell_type": "code",
   "execution_count": 6,
   "id": "7c2c91a8",
   "metadata": {
    "execution": {
     "iopub.execute_input": "2025-04-16T12:36:37.010699Z",
     "iopub.status.busy": "2025-04-16T12:36:37.010336Z",
     "iopub.status.idle": "2025-04-16T12:43:07.375107Z",
     "shell.execute_reply": "2025-04-16T12:43:07.374009Z"
    },
    "papermill": {
     "duration": 390.714506,
     "end_time": "2025-04-16T12:43:07.549516",
     "exception": false,
     "start_time": "2025-04-16T12:36:36.835010",
     "status": "completed"
    },
    "tags": []
   },
   "outputs": [
    {
     "name": "stderr",
     "output_type": "stream",
     "text": [
      "🔍 Matching Groups: 100%|██████████| 88321/88321 [03:08<00:00, 468.24it/s] \n"
     ]
    },
    {
     "name": "stdout",
     "output_type": "stream",
     "text": [
      "✅ Final Excel saved to: /kaggle/working/Invoice_Fuzzy_Report_Clean.xlsx\n"
     ]
    }
   ],
   "source": [
    "# 📦 Required Libraries\n",
    "import pandas as pd\n",
    "from difflib import SequenceMatcher\n",
    "from itertools import combinations\n",
    "from tqdm import tqdm\n",
    "\n",
    "# ✅ Load Excel XLSB File (update path as needed)\n",
    "file_path = \"/kaggle/input/invoice-dump-24-25-xlsb/Invoice_Dump_24-25.xlsb\"\n",
    "raw_df = pd.read_excel(file_path, sheet_name=0, engine='pyxlsb')\n",
    "\n",
    "# ✅ Work only with relevant columns for fuzzy logic\n",
    "df = raw_df[['PAYEE_CODE', 'INVOICE_NO', 'TOTAL_AMOUNT']].dropna().copy()\n",
    "\n",
    "# Convert types for fuzzy comparison\n",
    "df['PAYEE_CODE'] = df['PAYEE_CODE'].astype(str)\n",
    "df['INVOICE_NO'] = df['INVOICE_NO'].astype(str)\n",
    "\n",
    "# ✅ Fuzzy Matching: Group by PAYEE_CODE and TOTAL_AMOUNT\n",
    "matches = []\n",
    "grouped = df.groupby(['PAYEE_CODE', 'TOTAL_AMOUNT'])\n",
    "\n",
    "for (payee, amount), group_df in tqdm(grouped, desc=\"🔍 Matching Groups\"):\n",
    "    invoice_list = group_df['INVOICE_NO'].drop_duplicates().tolist()\n",
    "    for inv1, inv2 in combinations(invoice_list, 2):\n",
    "        if inv1 != inv2:\n",
    "            sim = SequenceMatcher(None, inv1, inv2).ratio()\n",
    "            if sim >= 0.90:\n",
    "                matches.append((payee, inv1, inv2, amount, round(sim, 2)))\n",
    "\n",
    "# ✅ Build Fuzzy Match DataFrame\n",
    "fuzzy_df = pd.DataFrame(matches, columns=['Payee_Code', 'Invoice_1', 'Invoice_2', 'Amount', 'Similarity'])\n",
    "\n",
    "# ✅ Get full raw rows for matched invoices (as-is from the original file)\n",
    "matched_invoice_ids = set(fuzzy_df['Invoice_1']).union(set(fuzzy_df['Invoice_2']))\n",
    "matched_full_rows = raw_df[raw_df['INVOICE_NO'].astype(str).isin(matched_invoice_ids)]\n",
    "\n",
    "# ✅ Save all to Excel in /kaggle/working\n",
    "output_path = \"/kaggle/working/Invoice_Fuzzy_Report_Clean.xlsx\"\n",
    "\n",
    "with pd.ExcelWriter(output_path, engine='openpyxl') as writer:\n",
    "    raw_df.to_excel(writer, sheet_name=\"Raw_Data\", index=False)               # Full original data\n",
    "    fuzzy_df.to_excel(writer, sheet_name=\"Fuzzy_Matches\", index=False)       # Fuzzy matches\n",
    "    matched_full_rows.to_excel(writer, sheet_name=\"Matched_Details\", index=False)  # Raw rows of matched invoices\n",
    "\n",
    "print(f\"✅ Final Excel saved to: {output_path}\")\n"
   ]
  },
  {
   "cell_type": "code",
   "execution_count": 7,
   "id": "4ac2e8e9",
   "metadata": {
    "execution": {
     "iopub.execute_input": "2025-04-16T12:43:07.894372Z",
     "iopub.status.busy": "2025-04-16T12:43:07.893387Z",
     "iopub.status.idle": "2025-04-16T12:49:27.570701Z",
     "shell.execute_reply": "2025-04-16T12:49:27.569578Z"
    },
    "papermill": {
     "duration": 380.038005,
     "end_time": "2025-04-16T12:49:27.758739",
     "exception": false,
     "start_time": "2025-04-16T12:43:07.720734",
     "status": "completed"
    },
    "tags": []
   },
   "outputs": [
    {
     "name": "stderr",
     "output_type": "stream",
     "text": [
      "🔍 Processing Groups: 100%|██████████| 88321/88321 [03:00<00:00, 490.01it/s] \n"
     ]
    },
    {
     "name": "stdout",
     "output_type": "stream",
     "text": [
      "✅ Final Excel saved with full raw + matches: /kaggle/working/Invoice_Fuzzy_Report_Complete.xlsx\n"
     ]
    }
   ],
   "source": [
    "# 📦 Required Libraries\n",
    "import pandas as pd\n",
    "from difflib import SequenceMatcher\n",
    "from itertools import combinations\n",
    "from tqdm import tqdm\n",
    "\n",
    "# ✅ Load full Excel file with all columns intact\n",
    "file_path = \"/kaggle/input/invoice-dump-24-25-xlsb/Invoice_Dump_24-25.xlsb\"\n",
    "raw_df = pd.read_excel(file_path, sheet_name=0, engine='pyxlsb')  # This is the full raw data\n",
    "\n",
    "# ✅ Extract just the three columns needed for matching logic\n",
    "match_df = raw_df[['PAYEE_CODE', 'INVOICE_NO', 'TOTAL_AMOUNT']].dropna().copy()\n",
    "\n",
    "# Convert to strings for fuzzy comparison\n",
    "match_df['PAYEE_CODE'] = match_df['PAYEE_CODE'].astype(str)\n",
    "match_df['INVOICE_NO'] = match_df['INVOICE_NO'].astype(str)\n",
    "\n",
    "# ✅ Group by PAYEE_CODE and TOTAL_AMOUNT to do efficient fuzzy matching\n",
    "matches = []\n",
    "grouped = match_df.groupby(['PAYEE_CODE', 'TOTAL_AMOUNT'])\n",
    "\n",
    "for (payee, amount), group in tqdm(grouped, desc=\"🔍 Processing Groups\"):\n",
    "    invoice_list = group['INVOICE_NO'].drop_duplicates().tolist()\n",
    "    for inv1, inv2 in combinations(invoice_list, 2):\n",
    "        if inv1 != inv2:\n",
    "            sim = SequenceMatcher(None, inv1, inv2).ratio()\n",
    "            if sim >= 0.90:\n",
    "                matches.append((payee, inv1, inv2, amount, round(sim, 2)))\n",
    "\n",
    "# ✅ Convert matches into a DataFrame\n",
    "fuzzy_df = pd.DataFrame(matches, columns=['Payee_Code', 'Invoice_1', 'Invoice_2', 'Amount', 'Similarity'])\n",
    "\n",
    "# ✅ Extract full rows from the raw data where invoices matched\n",
    "matched_invoice_ids = set(fuzzy_df['Invoice_1']).union(set(fuzzy_df['Invoice_2']))\n",
    "matched_details = raw_df[raw_df['INVOICE_NO'].astype(str).isin(matched_invoice_ids)]\n",
    "\n",
    "# ✅ Save all 3 sheets to Excel in Kaggle's working directory\n",
    "output_path = \"/kaggle/working/Invoice_Fuzzy_Report_Complete.xlsx\"\n",
    "\n",
    "with pd.ExcelWriter(output_path, engine='openpyxl') as writer:\n",
    "    raw_df.to_excel(writer, sheet_name=\"Raw_Data\", index=False)               # FULL Raw Data (All Columns)\n",
    "    fuzzy_df.to_excel(writer, sheet_name=\"Fuzzy_Matches\", index=False)       # Matches (Invoice_1, Invoice_2, etc.)\n",
    "    matched_details.to_excel(writer, sheet_name=\"Matched_Details\", index=False)  # Full Rows for Matched Invoices\n",
    "\n",
    "print(f\"✅ Final Excel saved with full raw + matches: {output_path}\")\n"
   ]
  },
  {
   "cell_type": "code",
   "execution_count": 8,
   "id": "b8918f36",
   "metadata": {
    "execution": {
     "iopub.execute_input": "2025-04-16T12:49:28.121808Z",
     "iopub.status.busy": "2025-04-16T12:49:28.121442Z",
     "iopub.status.idle": "2025-04-16T12:55:50.977170Z",
     "shell.execute_reply": "2025-04-16T12:55:50.976169Z"
    },
    "papermill": {
     "duration": 383.235787,
     "end_time": "2025-04-16T12:55:51.174967",
     "exception": false,
     "start_time": "2025-04-16T12:49:27.939180",
     "status": "completed"
    },
    "tags": []
   },
   "outputs": [
    {
     "name": "stderr",
     "output_type": "stream",
     "text": [
      "🔍 Matching Groups: 100%|██████████| 88321/88321 [03:02<00:00, 484.05it/s] \n"
     ]
    },
    {
     "name": "stdout",
     "output_type": "stream",
     "text": [
      "✅ Fixed and Full Excel report saved to: /kaggle/working/Invoice_Fuzzy_Report_Corrected.xlsx\n"
     ]
    }
   ],
   "source": [
    "# 📦 Required Libraries\n",
    "import pandas as pd\n",
    "from difflib import SequenceMatcher\n",
    "from itertools import combinations\n",
    "from tqdm import tqdm\n",
    "\n",
    "# ✅ Load the full original XLSB data (not filtered)\n",
    "file_path = \"/kaggle/input/invoice-dump-24-25-xlsb/Invoice_Dump_24-25.xlsb\"\n",
    "raw_df = pd.read_excel(file_path, sheet_name=0, engine='pyxlsb')  # FULL DATA with all columns\n",
    "\n",
    "# ✅ Create a working DataFrame with ONLY 3 columns for fuzzy logic (not for saving)\n",
    "match_df = raw_df[['PAYEE_CODE', 'INVOICE_NO', 'TOTAL_AMOUNT']].dropna().copy()\n",
    "\n",
    "# Convert types to string for comparison\n",
    "match_df['PAYEE_CODE'] = match_df['PAYEE_CODE'].astype(str)\n",
    "match_df['INVOICE_NO'] = match_df['INVOICE_NO'].astype(str)\n",
    "\n",
    "# ✅ Fuzzy Matching grouped by PAYEE_CODE and TOTAL_AMOUNT\n",
    "matches = []\n",
    "grouped = match_df.groupby(['PAYEE_CODE', 'TOTAL_AMOUNT'])\n",
    "\n",
    "for (payee, amount), group in tqdm(grouped, desc=\"🔍 Matching Groups\"):\n",
    "    invoice_list = group['INVOICE_NO'].drop_duplicates().tolist()\n",
    "    for inv1, inv2 in combinations(invoice_list, 2):\n",
    "        if inv1 != inv2:\n",
    "            sim = SequenceMatcher(None, inv1, inv2).ratio()\n",
    "            if sim >= 0.90:\n",
    "                matches.append((payee, inv1, inv2, amount, round(sim, 2)))\n",
    "\n",
    "# ✅ Build Match Result DataFrame\n",
    "fuzzy_df = pd.DataFrame(matches, columns=['Payee_Code', 'Invoice_1', 'Invoice_2', 'Amount', 'Similarity'])\n",
    "\n",
    "# ✅ Extract full matched rows from original raw_df (not filtered)\n",
    "matched_invoice_ids = set(fuzzy_df['Invoice_1']).union(set(fuzzy_df['Invoice_2']))\n",
    "matched_rows_full = raw_df[raw_df['INVOICE_NO'].astype(str).isin(matched_invoice_ids)]\n",
    "\n",
    "# ✅ Save to Excel — Full Raw + Matches + Matched Details\n",
    "output_path = \"/kaggle/working/Invoice_Fuzzy_Report_Corrected.xlsx\"\n",
    "\n",
    "with pd.ExcelWriter(output_path, engine='openpyxl') as writer:\n",
    "    raw_df.to_excel(writer, sheet_name=\"Raw_Data\", index=False)                  # FULL Raw Data (All Columns)\n",
    "    fuzzy_df.to_excel(writer, sheet_name=\"Fuzzy_Matches\", index=False)          # Fuzzy Match Results\n",
    "    matched_rows_full.to_excel(writer, sheet_name=\"Matched_Details\", index=False)  # Full raw rows of matched invoices\n",
    "\n",
    "print(f\"✅ Fixed and Full Excel report saved to: {output_path}\")\n"
   ]
  }
 ],
 "metadata": {
  "kaggle": {
   "accelerator": "none",
   "dataSources": [
    {
     "datasetId": 7161215,
     "sourceId": 11433514,
     "sourceType": "datasetVersion"
    }
   ],
   "dockerImageVersionId": 31012,
   "isGpuEnabled": false,
   "isInternetEnabled": true,
   "language": "python",
   "sourceType": "notebook"
  },
  "kernelspec": {
   "display_name": "Python 3",
   "language": "python",
   "name": "python3"
  },
  "language_info": {
   "codemirror_mode": {
    "name": "ipython",
    "version": 3
   },
   "file_extension": ".py",
   "mimetype": "text/x-python",
   "name": "python",
   "nbconvert_exporter": "python",
   "pygments_lexer": "ipython3",
   "version": "3.11.11"
  },
  "papermill": {
   "default_parameters": {},
   "duration": 2677.362226,
   "end_time": "2025-04-16T12:55:54.296423",
   "environment_variables": {},
   "exception": null,
   "input_path": "__notebook__.ipynb",
   "output_path": "__notebook__.ipynb",
   "parameters": {},
   "start_time": "2025-04-16T12:11:16.934197",
   "version": "2.6.0"
  }
 },
 "nbformat": 4,
 "nbformat_minor": 5
}
